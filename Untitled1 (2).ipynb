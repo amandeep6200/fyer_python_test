{
 "cells": [
  {
   "cell_type": "code",
   "execution_count": 39,
   "metadata": {},
   "outputs": [],
   "source": [
    "import matplotlib.pyplot as plt\n",
    "import pandas as pd \n"
   ]
  },
  {
   "cell_type": "code",
   "execution_count": null,
   "metadata": {},
   "outputs": [],
   "source": []
  },
  {
   "cell_type": "code",
   "execution_count": 40,
   "metadata": {},
   "outputs": [],
   "source": [
    "\n",
    "import csv\n",
    "with open('airlines.csv', newline='') as f:\n",
    "    reader = csv.reader(f)\n",
    "    array = list(reader)\n",
    "\n"
   ]
  },
  {
   "cell_type": "code",
   "execution_count": 57,
   "metadata": {},
   "outputs": [
    {
     "name": "stdout",
     "output_type": "stream",
     "text": [
      "output1 {'Atlanta, GA: Hartsfield-Jackson Atlanta International': 154, 'Boston, MA: Logan International': 150, 'Baltimore, MD: Baltimore/Washington International Thurgood Marshall': 150, 'Charlotte, NC: Charlotte Douglas International': 150, 'Washington, DC: Ronald Reagan Washington National': 150, 'Denver, CO: Denver International': 150, 'Dallas/Fort Worth, TX: Dallas/Fort Worth International': 150, 'Detroit, MI: Detroit Metro Wayne County': 150, 'Newark, NJ: Newark Liberty International': 150, 'Fort Lauderdale, FL: Fort Lauderdale-Hollywood International': 150, 'Washington, DC: Washington Dulles International': 150, 'Houston, TX: George Bush Intercontinental/Houston': 150, 'New York, NY: John F. Kennedy International': 150, 'Las Vegas, NV: McCarran International': 150, 'Los Angeles, CA: Los Angeles International': 150, 'New York, NY: LaGuardia': 150, 'Orlando, FL: Orlando International': 150, 'Chicago, IL: Chicago Midway International': 150, 'Miami, FL: Miami International': 150, 'Minneapolis, MN: Minneapolis-St Paul International': 150, \"Chicago, IL: Chicago O'Hare International\": 150, 'Portland, OR: Portland International': 149, 'Philadelphia, PA: Philadelphia International': 149, 'Phoenix, AZ: Phoenix Sky Harbor International': 137, 'San Diego, CA: San Diego International': 149, 'Seattle, WA: Seattle/Tacoma International': 149, 'San Francisco, CA: San Francisco International': 149, 'Salt Lake City, UT: Salt Lake City International': 149, 'Tampa, FL: Tampa International': 149}\n"
     ]
    }
   ],
   "source": [
    "object_count={}\n",
    "for i in range(1,len(array)):\n",
    "    if array[i][1] in object_count:\n",
    "        object_count[array[i][1]]+=1\n",
    "    else:\n",
    "        object_count[array[i][1]]=1\n",
    "print(\"output1\",object_count)     "
   ]
  },
  {
   "cell_type": "code",
   "execution_count": 58,
   "metadata": {},
   "outputs": [
    {
     "name": "stdout",
     "output_type": "stream",
     "text": [
      "output2 ('Atlanta, GA: Hartsfield-Jackson Atlanta International', 154)\n",
      "output3 ('Phoenix, AZ: Phoenix Sky Harbor International', 137)\n"
     ]
    }
   ],
   "source": [
    "sorted_array=sorted(object_count.items(), key=lambda item: item[1])\n",
    "print(\"output2\",sorted_array[-1])\n",
    "print(\"output3\",sorted_array[0])"
   ]
  },
  {
   "cell_type": "code",
   "execution_count": null,
   "metadata": {},
   "outputs": [],
   "source": []
  },
  {
   "cell_type": "code",
   "execution_count": null,
   "metadata": {},
   "outputs": [],
   "source": []
  },
  {
   "cell_type": "code",
   "execution_count": null,
   "metadata": {},
   "outputs": [],
   "source": []
  }
 ],
 "metadata": {
  "kernelspec": {
   "display_name": "Python 3",
   "language": "python",
   "name": "python3"
  },
  "language_info": {
   "codemirror_mode": {
    "name": "ipython",
    "version": 3
   },
   "file_extension": ".py",
   "mimetype": "text/x-python",
   "name": "python",
   "nbconvert_exporter": "python",
   "pygments_lexer": "ipython3",
   "version": "3.7.6"
  }
 },
 "nbformat": 4,
 "nbformat_minor": 4
}
