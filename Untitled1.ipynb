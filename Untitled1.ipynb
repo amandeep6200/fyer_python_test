{
 "cells": [
  {
   "cell_type": "code",
   "execution_count": 39,
   "metadata": {},
   "outputs": [],
   "source": [
    "import matplotlib.pyplot as plt\n",
    "import pandas as pd \n"
   ]
  },
  {
   "cell_type": "code",
   "execution_count": null,
   "metadata": {},
   "outputs": [],
   "source": []
  },
  {
   "cell_type": "code",
   "execution_count": 40,
   "metadata": {},
   "outputs": [],
   "source": [
    "\n",
    "import csv\n",
    "with open('airlines.csv', newline='') as f:\n",
    "    reader = csv.reader(f)\n",
    "    array = list(reader)\n",
    "\n",
    "print(\"output1\"array)"
   ]
  },
  {
   "cell_type": "code",
   "execution_count": 47,
   "metadata": {},
   "outputs": [],
   "source": [
    "object_count={}\n",
    "for i in range(1,len(array)):\n",
    "    if array[i][1] in object_count:\n",
    "        object_count[array[i][1]]+=1\n",
    "    else:\n",
    "        object_count[array[i][1]]=1\n",
    "        "
   ]
  },
  {
   "cell_type": "code",
   "execution_count": 51,
   "metadata": {},
   "outputs": [
    {
     "name": "stdout",
     "output_type": "stream",
     "text": [
      "output2 ('Atlanta, GA: Hartsfield-Jackson Atlanta International', 154)\n",
      "output3 ('Phoenix, AZ: Phoenix Sky Harbor International', 137)\n"
     ]
    }
   ],
   "source": [
    "sorted_array=sorted(object_count.items(), key=lambda item: item[1])\n",
    "print(\"output2\",sorted_array[-1])\n",
    "print(\"output3\",sorted_array[0])"
   ]
  },
  {
   "cell_type": "code",
   "execution_count": null,
   "metadata": {},
   "outputs": [],
   "source": []
  }
 ],
 "metadata": {
  "kernelspec": {
   "display_name": "Python 3",
   "language": "python",
   "name": "python3"
  },
  "language_info": {
   "codemirror_mode": {
    "name": "ipython",
    "version": 3
   },
   "file_extension": ".py",
   "mimetype": "text/x-python",
   "name": "python",
   "nbconvert_exporter": "python",
   "pygments_lexer": "ipython3",
   "version": "3.7.6"
  }
 },
 "nbformat": 4,
 "nbformat_minor": 4
}
